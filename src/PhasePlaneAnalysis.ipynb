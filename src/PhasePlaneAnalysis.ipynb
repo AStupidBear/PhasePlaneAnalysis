{
 "cells": [
  {
   "cell_type": "code",
   "execution_count": 27,
   "metadata": {
    "collapsed": false
   },
   "outputs": [
    {
     "data": {
      "text/html": [
       "<script charset=\"utf-8\">(function ($, undefined) {\n",
       "\n",
       "    function createElem(tag, attr, content) {\n",
       "\t// TODO: remove jQuery dependency\n",
       "\tvar el = $(\"<\" + tag + \"/>\").attr(attr);\n",
       "\tif (content) {\n",
       "\t    el.append(content);\n",
       "\t}\n",
       "\treturn el[0];\n",
       "    }\n",
       "\n",
       "    // A widget must expose an id field which identifies it to the backend,\n",
       "    // an elem attribute which is will be added to the DOM, and\n",
       "    // a getState() method which returns the value to be sent to the backend\n",
       "    // a sendUpdate() method which sends its current value to the backend\n",
       "    var Widget = {\n",
       "\tid: undefined,\n",
       "\telem: undefined,\n",
       "\tlabel: undefined,\n",
       "\tgetState: function () {\n",
       "\t    return this.elem.value;\n",
       "\t},\n",
       "\tsendUpdate: undefined\n",
       "    };\n",
       "\n",
       "    var Slider = function (typ, id, init) {\n",
       "\tvar attr = { type:  \"range\",\n",
       "\t\t     value: init.value,\n",
       "\t\t     min:   init.min,\n",
       "\t\t     max:   init.max,\n",
       "\t\t     step:  init.step },\n",
       "\t    elem = createElem(\"input\", attr),\n",
       "\t    self = this;\n",
       "\n",
       "\telem.onchange = function () {\n",
       "\t    self.sendUpdate();\n",
       "\t}\n",
       "\n",
       "\tthis.id = id;\n",
       "\tthis.elem = elem;\n",
       "\tthis.label = init.label;\n",
       "\n",
       "\tInputWidgets.commInitializer(this); // Initialize communication\n",
       "    }\n",
       "    Slider.prototype = Widget;\n",
       "\n",
       "    var Checkbox = function (typ, id, init) {\n",
       "\tvar attr = { type: \"checkbox\",\n",
       "\t\t     checked: init.value },\n",
       "\t    elem = createElem(\"input\", attr),\n",
       "\t    self = this;\n",
       "\n",
       "\tthis.getState = function () {\n",
       "\t    return elem.checked;\n",
       "\t}\n",
       "\telem.onchange = function () {\n",
       "\t    self.sendUpdate();\n",
       "\t}\n",
       "\n",
       "\tthis.id = id;\n",
       "\tthis.elem = elem;\n",
       "\tthis.label = init.label;\n",
       "\n",
       "\tInputWidgets.commInitializer(this);\n",
       "    }\n",
       "    Checkbox.prototype = Widget;\n",
       "\n",
       "    var Button = function (typ, id, init) {\n",
       "\tvar attr = { type:    \"button\",\n",
       "\t\t     value:   init.label },\n",
       "\t    elem = createElem(\"input\", attr),\n",
       "\t    self = this;\n",
       "\tthis.getState = function () {\n",
       "\t    return null;\n",
       "\t}\n",
       "\telem.onclick = function () {\n",
       "\t    self.sendUpdate();\n",
       "\t}\n",
       "\n",
       "\tthis.id = id;\n",
       "\tthis.elem = elem;\n",
       "\tthis.label = init.label;\n",
       "\n",
       "\tInputWidgets.commInitializer(this);\n",
       "    }\n",
       "    Button.prototype = Widget;\n",
       "\n",
       "    var Text = function (typ, id, init) {\n",
       "\tvar attr = { type:  \"text\",\n",
       "\t\t     placeholder: init.label,\n",
       "\t\t     value: init.value },\n",
       "\t    elem = createElem(\"input\", attr),\n",
       "\t    self = this;\n",
       "\tthis.getState = function () {\n",
       "\t    return elem.value;\n",
       "\t}\n",
       "\telem.onkeyup = function () {\n",
       "\t    self.sendUpdate();\n",
       "\t}\n",
       "\n",
       "\tthis.id = id;\n",
       "\tthis.elem = elem;\n",
       "\tthis.label = init.label;\n",
       "\n",
       "\tInputWidgets.commInitializer(this);\n",
       "    }\n",
       "    Text.prototype = Widget;\n",
       "\n",
       "    var Textarea = function (typ, id, init) {\n",
       "\tvar attr = { placeholder: init.label },\n",
       "\t    elem = createElem(\"textarea\", attr, init.value),\n",
       "\t    self = this;\n",
       "\tthis.getState = function () {\n",
       "\t    return elem.value;\n",
       "\t}\n",
       "\telem.onchange = function () {\n",
       "\t    self.sendUpdate();\n",
       "\t}\n",
       "\n",
       "\tthis.id = id;\n",
       "\tthis.elem = elem;\n",
       "\tthis.label = init.label;\n",
       "\n",
       "\tInputWidgets.commInitializer(this);\n",
       "    }\n",
       "    Textarea.prototype = Widget;\n",
       "\n",
       "    // RadioButtons\n",
       "    // Dropdown\n",
       "    // HTML\n",
       "    // Latex\n",
       "\n",
       "    var InputWidgets = {\n",
       "\tSlider: Slider,\n",
       "\tCheckbox: Checkbox,\n",
       "\tButton: Button,\n",
       "\tText: Text,\n",
       "\tTextarea: Textarea,\n",
       "\tdebug: false,\n",
       "\tlog: function () {\n",
       "\t    if (InputWidgets.debug) {\n",
       "\t\tconsole.log.apply(console, arguments);\n",
       "\t    }\n",
       "\t},\n",
       "\t// a central way to initalize communication\n",
       "\t// for widgets.\n",
       "\tcommInitializer: function (widget) {\n",
       "\t    widget.sendUpdate = function () {};\n",
       "\t}\n",
       "    };\n",
       "\n",
       "    window.InputWidgets = InputWidgets;\n",
       "\n",
       "})(jQuery, undefined);\n",
       "</script>"
      ]
     },
     "metadata": {},
     "output_type": "display_data"
    },
    {
     "name": "stderr",
     "output_type": "stream",
     "text": [
      "WARNING: Method definition remotecall_fetch(Function, Main.Base.LocalProcess, Any...) in module Compat at E:\\juno\\resources\\app\\julia\\packages\\v0.4\\Compat\\src\\Compat.jl:741 overwritten in module Compat at E:\\juno\\resources\\app\\julia\\packages\\v0.4\\Compat\\src\\Compat.jl:741.\n",
      "WARNING: Method definition remotecall_fetch(Function, Main.Base.Worker, Any...) in module Compat at E:\\juno\\resources\\app\\julia\\packages\\v0.4\\Compat\\src\\Compat.jl:742 overwritten in module Compat at E:\\juno\\resources\\app\\julia\\packages\\v0.4\\Compat\\src\\Compat.jl:742.\n",
      "WARNING: Method definition remotecall_fetch(Function, Integer, Any...) in module Compat at E:\\juno\\resources\\app\\julia\\packages\\v0.4\\Compat\\src\\Compat.jl:743 overwritten in module Compat at E:\\juno\\resources\\app\\julia\\packages\\v0.4\\Compat\\src\\Compat.jl:743.\n",
      "WARNING: Method definition readuntil(AbstractString, Any...) in module Compat at E:\\juno\\resources\\app\\julia\\packages\\v0.4\\Compat\\src\\Compat.jl:807 overwritten in module Compat at E:\\juno\\resources\\app\\julia\\packages\\v0.4\\Compat\\src\\Compat.jl:807.\n",
      "WARNING: Method definition read!(AbstractString, Any) in module Compat at E:\\juno\\resources\\app\\julia\\packages\\v0.4\\Compat\\src\\Compat.jl:806 overwritten in module Compat at E:\\juno\\resources\\app\\julia\\packages\\v0.4\\Compat\\src\\Compat.jl:806.\n",
      "WARNING: Method definition write(Main.Base.IO, Main.Base.IO) in module Compat at E:\\juno\\resources\\app\\julia\\packages\\v0.4\\Compat\\src\\Compat.jl:814 overwritten in module Compat at E:\\juno\\resources\\app\\julia\\packages\\v0.4\\Compat\\src\\Compat.jl:814.\n",
      "WARNING: Method definition write(AbstractString, Any...) in module Compat at E:\\juno\\resources\\app\\julia\\packages\\v0.4\\Compat\\src\\Compat.jl:803 overwritten in module Compat at E:\\juno\\resources\\app\\julia\\packages\\v0.4\\Compat\\src\\Compat.jl:803.\n",
      "WARNING: Method definition remotecall_wait(Function, Main.Base.LocalProcess, Any...) in module Compat at E:\\juno\\resources\\app\\julia\\packages\\v0.4\\Compat\\src\\Compat.jl:741 overwritten in module Compat at E:\\juno\\resources\\app\\julia\\packages\\v0.4\\Compat\\src\\Compat.jl:741.\n",
      "WARNING: Method definition remotecall_wait(Function, Main.Base.Worker, Any...) in module Compat at E:\\juno\\resources\\app\\julia\\packages\\v0.4\\Compat\\src\\Compat.jl:742 overwritten in module Compat at E:\\juno\\resources\\app\\julia\\packages\\v0.4\\Compat\\src\\Compat.jl:742.\n",
      "WARNING: Method definition remotecall_wait(Function, Integer, Any...) in module Compat at E:\\juno\\resources\\app\\julia\\packages\\v0.4\\Compat\\src\\Compat.jl:743 overwritten in module Compat at E:\\juno\\resources\\app\\julia\\packages\\v0.4\\Compat\\src\\Compat.jl:743.\n",
      "WARNING: Method definition readavailable(Main.Base.IOStream) in module Compat at E:\\juno\\resources\\app\\julia\\packages\\v0.4\\Compat\\src\\Compat.jl:810 overwritten in module Compat at E:\\juno\\resources\\app\\julia\\packages\\v0.4\\Compat\\src\\Compat.jl:810.\n",
      "WARNING: Method definition readavailable(Main.Base.AbstractIOBuffer{Array{UInt8, 1}}) in module Compat at E:\\juno\\resources\\app\\julia\\packages\\v0.4\\Compat\\src\\Compat.jl:811 overwritten in module Compat at E:\\juno\\resources\\app\\julia\\packages\\v0.4\\Compat\\src\\Compat.jl:811.\n",
      "WARNING: Method definition remote_do(Function, Main.Base.LocalProcess, Any...) in module Compat at E:\\juno\\resources\\app\\julia\\packages\\v0.4\\Compat\\src\\Compat.jl:741 overwritten in module Compat at E:\\juno\\resources\\app\\julia\\packages\\v0.4\\Compat\\src\\Compat.jl:741.\n",
      "WARNING: Method definition remote_do(Function, Main.Base.Worker, Any...) in module Compat at E:\\juno\\resources\\app\\julia\\packages\\v0.4\\Compat\\src\\Compat.jl:742 overwritten in module Compat at E:\\juno\\resources\\app\\julia\\packages\\v0.4\\Compat\\src\\Compat.jl:742.\n",
      "WARNING: Method definition remote_do(Function, Integer, Any...) in module Compat at E:\\juno\\resources\\app\\julia\\packages\\v0.4\\Compat\\src\\Compat.jl:743 overwritten in module Compat at E:\\juno\\resources\\app\\julia\\packages\\v0.4\\Compat\\src\\Compat.jl:743.\n",
      "WARNING: Method definition remotecall(Function, Main.Base.LocalProcess, Any...) in module Compat at E:\\juno\\resources\\app\\julia\\packages\\v0.4\\Compat\\src\\Compat.jl:741 overwritten in module Compat at E:\\juno\\resources\\app\\julia\\packages\\v0.4\\Compat\\src\\Compat.jl:741.\n",
      "WARNING: Method definition remotecall(Function, Main.Base.Worker, Any...) in module Compat at E:\\juno\\resources\\app\\julia\\packages\\v0.4\\Compat\\src\\Compat.jl:742 overwritten in module Compat at E:\\juno\\resources\\app\\julia\\packages\\v0.4\\Compat\\src\\Compat.jl:742.\n",
      "WARNING: Method definition remotecall(Function, Integer, Any...) in module Compat at E:\\juno\\resources\\app\\julia\\packages\\v0.4\\Compat\\src\\Compat.jl:743 overwritten in module Compat at E:\\juno\\resources\\app\\julia\\packages\\v0.4\\Compat\\src\\Compat.jl:743.\n",
      "WARNING: Method definition precision(Type{Main.Base.MPFR.BigFloat}) in module Compat at E:\\juno\\resources\\app\\julia\\packages\\v0.4\\Compat\\src\\Compat.jl:836 overwritten in module Compat at E:\\juno\\resources\\app\\julia\\packages\\v0.4\\Compat\\src\\Compat.jl:836.\n",
      "WARNING: Method definition read(Main.Base.IO) in module Compat at E:\\juno\\resources\\app\\julia\\packages\\v0.4\\Compat\\src\\Compat.jl:800 overwritten in module Compat at E:\\juno\\resources\\app\\julia\\packages\\v0.4\\Compat\\src\\Compat.jl:800.\n",
      "WARNING: Method definition read(Main.Base.IO, Any) in module Compat at E:\\juno\\resources\\app\\julia\\packages\\v0.4\\Compat\\src\\Compat.jl:801 overwritten in module Compat at E:\\juno\\resources\\app\\julia\\packages\\v0.4\\Compat\\src\\Compat.jl:801.\n",
      "WARNING: Method definition read(AbstractString, Any...) in module Compat at E:\\juno\\resources\\app\\julia\\packages\\v0.4\\Compat\\src\\Compat.jl:805 overwritten in module Compat at E:\\juno\\resources\\app\\julia\\packages\\v0.4\\Compat\\src\\Compat.jl:805.\n",
      "WARNING: Method definition eachline(AbstractString) in module Compat at E:\\juno\\resources\\app\\julia\\packages\\v0.4\\Compat\\src\\Compat.jl:820 overwritten in module Compat at E:\\juno\\resources\\app\\julia\\packages\\v0.4\\Compat\\src\\Compat.jl:820.\n",
      "WARNING: Method definition readline(AbstractString) in module Compat at E:\\juno\\resources\\app\\julia\\packages\\v0.4\\Compat\\src\\Compat.jl:808 overwritten in module Compat at E:\\juno\\resources\\app\\julia\\packages\\v0.4\\Compat\\src\\Compat.jl:808.\n",
      "WARNING: Method definition readlines(AbstractString) in module Compat at E:\\juno\\resources\\app\\julia\\packages\\v0.4\\Compat\\src\\Compat.jl:809 overwritten in module Compat at E:\\juno\\resources\\app\\julia\\packages\\v0.4\\Compat\\src\\Compat.jl:809.\n",
      "WARNING: New definition \n",
      "    map(Array, Any, Reactive.Signal...)\n",
      "is ambiguous with: \n",
      "    map(Array, Any, Main.Reactive.Signal...).\n",
      "To fix, define \n",
      "    map(Array, Any)\n",
      "before the new definition.\n",
      "WARNING: New definition \n",
      "    map(Array, Any, Reactive.Signal...)\n",
      "is ambiguous with: \n",
      "    map(Array, Any, Main.Reactive.Signal...).\n",
      "To fix, define \n",
      "    map(Array, Any)\n",
      "before the new definition.\n",
      "WARNING: Method definition merge(Any...) in module Reactive at E:\\juno\\resources\\app\\julia\\packages\\v0.4\\Reactive\\src\\operators.jl:144 overwritten in module Reactive at E:\\juno\\resources\\app\\julia\\packages\\v0.4\\Reactive\\src\\operators.jl:144.\n",
      "WARNING: New definition \n",
      "    consume(Union{DataType, Function}, Reactive.Signal...) at deprecated.jl:49\n",
      "is ambiguous with: \n",
      "    consume(Union{DataType, Function}, Main.Reactive.Signal...) at deprecated.jl:49.\n",
      "To fix, define \n",
      "    consume(Union{DataType, Function})\n",
      "before the new definition.\n",
      "WARNING: New definition \n",
      "    consume(Union{DataType, Function}, Reactive.Signal...) at deprecated.jl:49\n",
      "is ambiguous with: \n",
      "    consume(Union{DataType, Function}, Main.Reactive.Signal...) at deprecated.jl:49.\n",
      "To fix, define \n",
      "    consume(Union{DataType, Function})\n",
      "before the new definition.\n",
      "WARNING: New definition \n",
      "    consume(Array, Union{DataType, Function}, Reactive.Signal...)\n",
      "is ambiguous with: \n",
      "    consume(Array, Union{DataType, Function}, Main.Reactive.Signal...).\n",
      "To fix, define \n",
      "    consume(Array, Union{DataType, Function})\n",
      "before the new definition.\n",
      "WARNING: New definition \n",
      "    consume(Array, Union{DataType, Function}, Reactive.Signal...)\n",
      "is ambiguous with: \n",
      "    consume(Array, Union{DataType, Function}, Main.Reactive.Signal...).\n",
      "To fix, define \n",
      "    consume(Array, Union{DataType, Function})\n",
      "before the new definition.\n",
      "WARNING: New definition \n",
      "    foldl(Array, Any, Any, Reactive.Signal...)\n",
      "is ambiguous with: \n",
      "    foldl(Array, Any, Any, Main.Reactive.Signal...).\n",
      "To fix, define \n",
      "    foldl(Array, Any, Any)\n",
      "before the new definition.\n",
      "WARNING: New definition \n",
      "    foldl(Array, Any, Any, Reactive.Signal...)\n",
      "is ambiguous with: \n",
      "    foldl(Array, Any, Any, Main.Reactive.Signal...).\n",
      "To fix, define \n",
      "    foldl(Array, Any, Any)\n",
      "before the new definition.\n"
     ]
    }
   ],
   "source": [
    "workspace()\n",
    "using Interact\n",
    "using MATLAB"
   ]
  },
  {
   "cell_type": "code",
   "execution_count": 39,
   "metadata": {
    "collapsed": false,
    "scrolled": false
   },
   "outputs": [
    {
     "data": {
      "text/html": [
       "<div class=\"input-widget slider\"  id=\"widget-166637ee-0ab8-4f8a-b05f-2c16151760ca\"></div><script>(function($,W) {$('#widget-166637ee-0ab8-4f8a-b05f-2c16151760ca').empty().append((new W.Slider(\"Float64\",\"166637ee-0ab8-4f8a-b05f-2c16151760ca\",{\"range\":[0.7],\"value\":0.7,\"continuous_update\":true})).elem);})(jQuery,InputWidgets)</script>"
      ],
      "text/plain": [
       "Interact.Slider{Float64}(Signal{Float64}(0.7, nactions=0),\"a\",0.7,0.7:1.0:0.7,true)"
      ]
     },
     "metadata": {},
     "output_type": "display_data"
    },
    {
     "data": {
      "text/html": [
       "<div class=\"input-widget slider\"  id=\"widget-ddc2fbc2-b1b1-4f8a-83ea-0ac0cc7147f6\"></div><script>(function($,W) {$('#widget-ddc2fbc2-b1b1-4f8a-83ea-0ac0cc7147f6').empty().append((new W.Slider(\"Float64\",\"ddc2fbc2-b1b1-4f8a-83ea-0ac0cc7147f6\",{\"range\":[0.8],\"value\":0.8,\"continuous_update\":true})).elem);})(jQuery,InputWidgets)</script>"
      ],
      "text/plain": [
       "Interact.Slider{Float64}(Signal{Float64}(0.8, nactions=0),\"b\",0.8,0.8:1.0:0.8,true)"
      ]
     },
     "metadata": {},
     "output_type": "display_data"
    },
    {
     "data": {
      "text/html": [
       "<div class=\"input-widget slider\"  id=\"widget-fadfddc8-d0f6-4faf-b400-23c7b4e8bab2\"></div><script>(function($,W) {$('#widget-fadfddc8-d0f6-4faf-b400-23c7b4e8bab2').empty().append((new W.Slider(\"Float64\",\"fadfddc8-d0f6-4faf-b400-23c7b4e8bab2\",{\"range\":[3.0],\"value\":3.0,\"continuous_update\":true})).elem);})(jQuery,InputWidgets)</script>"
      ],
      "text/plain": [
       "Interact.Slider{Float64}(Signal{Float64}(3.0, nactions=0),\"c\",3.0,3.0:1.0:3.0,true)"
      ]
     },
     "metadata": {},
     "output_type": "display_data"
    },
    {
     "data": {
      "text/html": [
       "<div class=\"input-widget slider\"  id=\"widget-30960ee6-c335-40fc-9fe9-57374802c5d5\"></div><script>(function($,W) {$('#widget-30960ee6-c335-40fc-9fe9-57374802c5d5').empty().append((new W.Slider(\"Float64\",\"30960ee6-c335-40fc-9fe9-57374802c5d5\",{\"range\":[-1.6,-0.6000000000000001,0.3999999999999999,1.4],\"value\":-0.6000000000000001,\"continuous_update\":true})).elem);})(jQuery,InputWidgets)</script>"
      ],
      "text/plain": [
       "Interact.Slider{Float64}(Signal{Float64}(-0.6000000000000001, nactions=0),\"I\",-0.6000000000000001,-1.6:1.0:1.4,true)"
      ]
     },
     "metadata": {},
     "output_type": "display_data"
    },
    {
     "name": "stdout",
     "output_type": "stream",
     "text": [
      "Any"
     ]
    },
    {
     "data": {
      "text/plain": [
       "Signal{Void}(nothing, nactions=0)"
      ]
     },
     "execution_count": 39,
     "metadata": {},
     "output_type": "execute_result"
    },
    {
     "name": "stdout",
     "output_type": "stream",
     "text": [
      "[\"unstable\"]\n"
     ]
    }
   ],
   "source": [
    "@manipulate for a=0.7:0.7, b=0.8:0.8,c=3.0:3.0,I=-1.6:1.6\n",
    "    mat\"\"\"\n",
    "    cla;\n",
    "    Fx=@(v,r)$(c)*(v-1/3*v.^3+r+$(I));\n",
    "    Fy=@(v,r)-1./$(c)*(v-$(a)+$(b).*r);\n",
    "    tRange=0:0.01:50;\n",
    "    xRange=-3:0.5:3;\n",
    "    yRange=-2:0.5:4;\n",
    "    quiverScale=1;\n",
    "    [$Xs,$stable]=pplane(Fx,Fy,tRange,xRange,yRange,quiverScale)\"\"\";\n",
    "    @mget Xs stable\n",
    "    println(stable)\n",
    "end"
   ]
  },
  {
   "cell_type": "code",
   "execution_count": 35,
   "metadata": {
    "collapsed": false
   },
   "outputs": [
    {
     "data": {
      "text/plain": [
       "1-element Array{Any,1}:\n",
       " \"unstable\""
      ]
     },
     "execution_count": 35,
     "metadata": {},
     "output_type": "execute_result"
    }
   ],
   "source": []
  },
  {
   "cell_type": "code",
   "execution_count": 15,
   "metadata": {
    "collapsed": true
   },
   "outputs": [],
   "source": [
    "# @j;@p;\n",
    "# using Interact\n",
    "# fig=figure();\n",
    "# xlim=linspace(-30,30,30)\n",
    "# ylim=linspace(-100,0,30)\n",
    "# @manipulate for a=0.02:0.01:0.08,b=0.20:0.01:0.25,c=-65:1:-50,d=2:1:8,I=1:1:10\n",
    "#     Fx(u,v) = 0.04*v.^2+5*v+140-u+I\n",
    "#     Fy(u,v)=a*(b*v+u)\n",
    "#     withfig(fig) do \n",
    "#         pplane(Fx,Fy,xlim,ylim)\n",
    "#     end\n",
    "# end"
   ]
  },
  {
   "cell_type": "code",
   "execution_count": null,
   "metadata": {
    "collapsed": true
   },
   "outputs": [],
   "source": []
  }
 ],
 "metadata": {
  "kernelspec": {
   "display_name": "Julia 0.4.2",
   "language": "julia",
   "name": "julia-0.4"
  },
  "language_info": {
   "file_extension": ".jl",
   "mimetype": "application/julia",
   "name": "julia",
   "version": "0.4.2"
  }
 },
 "nbformat": 4,
 "nbformat_minor": 0
}
